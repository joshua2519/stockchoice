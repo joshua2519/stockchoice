{
 "cells": [
  {
   "cell_type": "code",
   "execution_count": 37,
   "metadata": {},
   "outputs": [
    {
     "name": "stdout",
     "output_type": "stream",
     "text": [
      "2017-05-05\n",
      "2017-05-04\n",
      "2017-05-03\n",
      "2017-05-02\n",
      "2017-04-28\n",
      "2017-04-27\n",
      "2017-04-26\n",
      "2017-04-25\n",
      "2017-04-24\n",
      "2017-04-21\n",
      "2017-04-20\n",
      "2017-04-19\n",
      "2017-04-18\n",
      "2017-04-17\n",
      "2017-04-14\n",
      "2017-04-13\n",
      "2017-04-12\n",
      "2017-04-11\n",
      "2017-04-10\n",
      "2017-04-07\n",
      "2017-04-06\n",
      "2017-04-05\n",
      "2017-03-31\n",
      "2017-03-30\n",
      "2017-03-29\n",
      "2017-03-28\n",
      "2017-03-27\n",
      "2017-03-24\n",
      "2017-03-23\n",
      "2017-03-22\n",
      "2017-03-21\n",
      "2017-03-20\n",
      "2017-03-17\n",
      "2017-03-16\n",
      "2017-03-15\n",
      "2017-03-14\n",
      "2017-03-13\n",
      "2017-03-10\n",
      "2017-03-09\n",
      "2017-03-08\n"
     ]
    }
   ],
   "source": [
    "import requests\n",
    "from datetime import  timedelta\n",
    "import datetime,time\n",
    "today = datetime.date.today()\n",
    "dates = []\n",
    "for i in range(0,60):\n",
    "    d=today- timedelta(days=i)\n",
    "    if (d.weekday()>=0 and d.weekday()<=4):\n",
    "        if(d not in [datetime.date(2017,4,3),datetime.date(2017,4,4),datetime.date(2017,5,1)] ):\n",
    "            dates.append(d)\n",
    "\n",
    "#twse\n",
    "url = 'http://www.tse.com.tw/ch/trading/exchange/MI_INDEX/MI_INDEX.php'\n",
    "headers={\"Accept\":\"text/html,application/xhtml+xml,application/xml;q=0.9,image/webp,*/*;q=0.8\",\n",
    "\"Accept-Encoding\":\"gzip, deflate\",\n",
    "\"Accept-Language\":\"zh-TW,zh;q=0.8,en-US;q=0.6,en;q=0.4\",\n",
    "\"Cache-Control\":\"max-age=0\",\n",
    "\"Connection\":\"keep-alive\",\n",
    "\"Content-Length\":\"54\",\n",
    "\"Content-Type\":\"application/x-www-form-urlencoded\",\n",
    "\"Cookie\":\"__utmt=1; __utma=145556017.1896910337.1493995678.1493995678.1493995678.1; __utmb=145556017.32.9.1493998652070; __utmc=145556017; __utmz=145556017.1493995678.1.1.utmcsr=google|utmccn=(organic)|utmcmd=organic|utmctr=(not%20provided)\",\n",
    "\"Host\":\"www.tse.com.tw\",\n",
    "\"Origin\":\"http://www.tse.com.tw\",\n",
    "\"Referer\":\"http://www.tse.com.tw/ch/trading/exchange/MI_INDEX/MI_INDEX.php\",\n",
    "\"Upgrade-Insecure-Requests\":\"1\",\n",
    "\"User-Agent\":\"Mozilla/5.0 (Windows NT 6.1; Win64; x64) AppleWebKit/537.36 (KHTML, like Gecko) Chrome/57.0.2987.133 Safari/537.36\"}\n",
    "for d in dates:\n",
    "    dstring=str(d.year-1911)+'/'+str(d.month).zfill(2)+'/'+str(d.day).zfill(2)\n",
    "    payload = {\"download\":\"csv\",\"qdate\":dstring,\"selectType\":\"ALLBUT0999\"}\n",
    "    r = requests.post(url,headers=headers, data=payload)\n",
    "    filename=d.strftime(\"%Y%m%d\")+\".csv\"\n",
    "    with open(filename, \"wb\") as csv:\n",
    "        csv.write(r.content)\n",
    "    print(d)\n",
    "    time.sleep(5)"
   ]
  },
  {
   "cell_type": "code",
   "execution_count": 39,
   "metadata": {},
   "outputs": [
    {
     "name": "stdout",
     "output_type": "stream",
     "text": [
      "2017-05-05\n",
      "2017-05-04\n",
      "2017-05-03\n",
      "2017-05-02\n",
      "2017-04-28\n",
      "2017-04-27\n",
      "2017-04-26\n",
      "2017-04-25\n",
      "2017-04-24\n",
      "2017-04-21\n",
      "2017-04-20\n",
      "2017-04-19\n",
      "2017-04-18\n",
      "2017-04-17\n",
      "2017-04-14\n",
      "2017-04-13\n",
      "2017-04-12\n",
      "2017-04-11\n",
      "2017-04-10\n",
      "2017-04-07\n",
      "2017-04-06\n",
      "2017-04-05\n",
      "2017-03-31\n",
      "2017-03-30\n",
      "2017-03-29\n",
      "2017-03-28\n",
      "2017-03-27\n",
      "2017-03-24\n",
      "2017-03-23\n",
      "2017-03-22\n",
      "2017-03-21\n",
      "2017-03-20\n",
      "2017-03-17\n",
      "2017-03-16\n",
      "2017-03-15\n",
      "2017-03-14\n",
      "2017-03-13\n",
      "2017-03-10\n",
      "2017-03-09\n",
      "2017-03-08\n"
     ]
    }
   ],
   "source": [
    "#tpex\n",
    "for d in dates:\n",
    "    dstring=str(d.year-1911)+'/'+str(d.month).zfill(2)+'/'+str(d.day).zfill(2)\n",
    "    url=\"http://www.tpex.org.tw/web/stock/aftertrading/otc_quotes_no1430/stk_wn1430_download.php?l=zh-tw&d=\"+dstring+\"&se=EW&s=0,asc,0\"\n",
    "    r=requests.get(url)\n",
    "    filename=d.strftime(\"%Y%m%d\")+\".csv\"\n",
    "    with open(filename, \"wb\") as csv:\n",
    "        csv.write(r.content)\n",
    "    print(d)\n",
    "    time.sleep(5)"
   ]
  },
  {
   "cell_type": "code",
   "execution_count": null,
   "metadata": {
    "collapsed": true
   },
   "outputs": [],
   "source": []
  }
 ],
 "metadata": {
  "kernelspec": {
   "display_name": "Python 3",
   "language": "python",
   "name": "python3"
  },
  "language_info": {
   "codemirror_mode": {
    "name": "ipython",
    "version": 3
   },
   "file_extension": ".py",
   "mimetype": "text/x-python",
   "name": "python",
   "nbconvert_exporter": "python",
   "pygments_lexer": "ipython3",
   "version": "3.6.1"
  }
 },
 "nbformat": 4,
 "nbformat_minor": 2
}
