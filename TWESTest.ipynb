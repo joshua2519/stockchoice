{
 "cells": [
  {
   "cell_type": "code",
   "execution_count": 3,
   "metadata": {},
   "outputs": [
    {
     "name": "stdout",
     "output_type": "stream",
     "text": [
      "http://www.tse.com.tw/exchangeReport/MI_INDEX?response=csv&date=106/05/23&type=ALLBUT0999\n",
      "b''\n"
     ]
    }
   ],
   "source": [
    "import sqlite3,csv,os,sys\n",
    "import requests,csv\n",
    "from datetime import  timedelta\n",
    "import datetime,time\n",
    "\n",
    "d = datetime.date.today()\n",
    "#today=datetime.date(year=int(d[0:4]), month=int(d[4:6]), day=int(d[6:8]))\n",
    "\n",
    "\n",
    "dstring=str(d.year-1911)+'/'+str(d.month).zfill(2)+'/'+str(d.day).zfill(2)\n",
    "url = 'http://www.tse.com.tw/exchangeReport/MI_INDEX?response=csv&date='+dstring+'&type=ALLBUT0999'\n",
    "#payload = {\"response\":\"csv\",\"date\":dstring,\"type\":\"ALLBUT0999\"}\n",
    "r = requests.get(url)\n",
    "print(url)\n",
    "print(r.content)"
   ]
  },
  {
   "cell_type": "code",
   "execution_count": null,
   "metadata": {
    "collapsed": true
   },
   "outputs": [],
   "source": []
  }
 ],
 "metadata": {
  "kernelspec": {
   "display_name": "Python 3",
   "language": "python",
   "name": "python3"
  },
  "language_info": {
   "codemirror_mode": {
    "name": "ipython",
    "version": 3
   },
   "file_extension": ".py",
   "mimetype": "text/x-python",
   "name": "python",
   "nbconvert_exporter": "python",
   "pygments_lexer": "ipython3",
   "version": "3.6.1"
  }
 },
 "nbformat": 4,
 "nbformat_minor": 2
}
