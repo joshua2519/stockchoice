{
 "cells": [
  {
   "cell_type": "code",
   "execution_count": 2,
   "metadata": {},
   "outputs": [],
   "source": [
    "import os,sqlite3,csv\n",
    "tradedate=20170508\n",
    "stocklist=[]\n",
    "results=[]\n",
    "with open('stocklist.txt','r') as f:\n",
    "    for line in f:\n",
    "        stocklist.append(line.strip())\n",
    "\n",
    "\n",
    "conn = sqlite3.connect('stock.db')\n",
    "c = conn.cursor()\n",
    "for stockid in stocklist:\n",
    "    c.execute(\"select * from StockDaily where TradeDate=%s and ID=%s\"%(tradedate,stockid))\n",
    "    results.append(c.fetchone())\n",
    "\n",
    "with open('CDP_'+str(tradedate)+'.csv','w') as out:\n",
    "    csv_out=csv.writer(out, lineterminator='\\n')\n",
    "    csv_out.writerow(('日期','代號','股名',' 成交量','開盤','最高','最低','收盤','CDP','AH','NH','NL','AL'))\n",
    "    for row in results:\n",
    "        csv_out.writerow(row)\n"
   ]
  },
  {
   "cell_type": "code",
   "execution_count": null,
   "metadata": {
    "collapsed": true
   },
   "outputs": [],
   "source": []
  }
 ],
 "metadata": {
  "kernelspec": {
   "display_name": "Python 3",
   "language": "python",
   "name": "python3"
  },
  "language_info": {
   "codemirror_mode": {
    "name": "ipython",
    "version": 3
   },
   "file_extension": ".py",
   "mimetype": "text/x-python",
   "name": "python",
   "nbconvert_exporter": "python",
   "pygments_lexer": "ipython3",
   "version": "3.6.1"
  }
 },
 "nbformat": 4,
 "nbformat_minor": 2
}
